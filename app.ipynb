{
 "cells": [
  {
   "cell_type": "code",
   "execution_count": null,
   "metadata": {},
   "outputs": [],
   "source": [
    "import tweepy #Import modules\r\n",
    "import time # another 1\r\n",
    "print('Bot is here')\r\n",
    "CONSUMER_KEY = \"...\" #KEY for API\r\n",
    "CONSUMER_SECRET = \"...\" #SECRET\r\n",
    "BEARER_TOKEN = \"...\" #IDK but will be here...\r\n",
    "ACCESS_KEY = \"...\" #TOKEN to account\r\n",
    "ACCESS_SECRET = \"...\" #SECRET TOKEN\r\n",
    "auth = tweepy.OAuthHandler(CONSUMER_KEY,CONSUMER_SECRET) #making a val for authorization\r\n",
    "auth.set_access_token(ACCESS_KEY, ACCESS_SECRET)\r\n",
    "\r\n",
    "api = tweepy.API(auth) #api\r\n",
    "api.update_status('another try') #tweet message in account\r\n",
    "FILE_NAME = 'last_seen.txt' #file name with last post id"
   ]
  },
  {
   "cell_type": "code",
   "execution_count": null,
   "metadata": {},
   "outputs": [],
   "source": [
    "def read_last_seen(FILE_NAME): # function for real id\r\n",
    "    file_read = open(FILE_NAME, 'r')\r\n",
    "    last_seen_id = int(file_read.read().strip())\r\n",
    "    file_read.close\r\n",
    "    return last_seen_id\r\n",
    "\r\n",
    "def store_last_seen(FILE_NAME,last_seen_id):    # function for enter new id\r\n",
    "    file_write = open(FILE_NAME, 'w')\r\n",
    "    file_write.write(str(last_seen_id))\r\n",
    "    file_write.close()\r\n",
    "    return \r\n",
    "def reply(): # function for reply to post \r\n",
    "\r\n",
    "    tweets = api.mentions_timeline(read_last_seen(FILE_NAME), tweet_mode = 'extended') # for mentions\r\n",
    "    for tweet in reversed(tweets):  #cycle\r\n",
    "        if '#100ВDaysOfCode' in tweet.full_text.lower(): # if hashtags in tweet\r\n",
    "            print(str(tweet.id) + ' - ' + tweet.full_text) #print tweet id and full text\r\n",
    "            api.update_status(\"@\" + tweet.user.screen_name + \" Keep Work )\", tweet.id) # replying\r\n",
    "            api.create_favorite(tweet.id) # make a favorite tweet\r\n",
    "            api.retweet(tweet.id) # retweet tweet\r\n",
    "            store_last_seen(FILE_NAME,tweet.id) #change last id to new\r\n",
    "while True:\r\n",
    "    reply() # calling a function\r\n",
    "    time.sleep(15) # every 15 seconds reboot\r\n"
   ]
  },
  {
   "cell_type": "code",
   "execution_count": null,
   "metadata": {},
   "outputs": [],
   "source": [
    "\r\n",
    "\r\n",
    "    "
   ]
  },
  {
   "cell_type": "code",
   "execution_count": null,
   "metadata": {},
   "outputs": [],
   "source": []
  }
 ],
 "metadata": {
  "interpreter": {
   "hash": "7585de03da07aff91778c0565f1fc3b72a2b56cda13ed14cba0b716b39314f65"
  },
  "kernelspec": {
   "display_name": "Python 3.9.1 64-bit",
   "name": "python3"
  },
  "language_info": {
   "name": "python",
   "version": ""
  },
  "orig_nbformat": 4
 },
 "nbformat": 4,
 "nbformat_minor": 2
}