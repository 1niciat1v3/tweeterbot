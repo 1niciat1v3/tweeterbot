{
 "cells": [
  {
   "cell_type": "code",
   "execution_count": null,
   "metadata": {},
   "outputs": [],
   "source": [
    "import tweepy\r\n",
    "import time\r\n",
    "print('Bot is here')\r\n",
    "CONSUMER_KEY = \"1OpaYPXLqymWZ8KmW6odnfHmL\"\r\n",
    "CONSUMER_SECRET = \"qBaIRmOtF3hlLSr6UaE6zZGzEB2OIyLnTZ0pZTOJB5qGvnJII6\"\r\n",
    "BEARER_TOKEN = \"AAAAAAAAAAAAAAAAAAAAAEyORQEAAAAA51%2Fa4z4%2BZfVMt4EGeSGk73LikHA%3DUPheSlkjnSFPG9Zo9p82nijY2s75Lha4zsM5hP8XtCI8RswieW\"\r\n",
    "ACCESS_KEY = \"2945480147-u4AFYid46R0BXQ45QAb2MlKKasHA4wl9csqoLmD\"\r\n",
    "ACCESS_SECRET = \"G3YX9Q2Ns4gwoLr5iRnFS6PCKoHXBpmr4fk7eWromD2O7\"\r\n",
    "auth = tweepy.OAuthHandler(CONSUMER_KEY,CONSUMER_SECRET)\r\n",
    "auth.set_access_token(ACCESS_KEY, ACCESS_SECRET)\r\n",
    "\r\n",
    "api = tweepy.API(auth)\r\n",
    "api.update_status('another try')\r\n",
    "FILE_NAME = 'last_seen.txt'"
   ]
  },
  {
   "cell_type": "code",
   "execution_count": null,
   "metadata": {},
   "outputs": [],
   "source": [
    "def read_last_seen(FILE_NAME):\r\n",
    "    file_read = open(FILE_NAME, 'r')\r\n",
    "    last_seen_id = int(file_read.read().strip())\r\n",
    "    file_read.close\r\n",
    "    return last_seen_id\r\n",
    "\r\n",
    "def store_last_seen(FILE_NAME,last_seen_id):\r\n",
    "    file_write = open(FILE_NAME, 'w')\r\n",
    "    file_write.write(str(last_seen_id))\r\n",
    "    file_write.close()\r\n",
    "    return \r\n",
    "def reply():\r\n",
    "\r\n",
    "    tweets = api.mentions_timeline(read_last_seen(FILE_NAME), tweet_mode = 'extended')\r\n",
    "    for tweet in reversed(tweets):\r\n",
    "       # print(str(tweet.id) + ' - ' + tweet.full_text)\r\n",
    "        if '#100ВDaysOfCode' in tweet.full_text.lower():\r\n",
    "            print(str(tweet.id) + ' - ' + tweet.full_text)\r\n",
    "            api.update_status(\"@\" + tweet.user.screen_name + \" Keep Work )\", tweet.id)\r\n",
    "            api.create_favorite(tweet.id)\r\n",
    "            api.retweet(tweet.id)\r\n",
    "            store_last_seen(FILE_NAME,tweet.id)\r\n",
    "while True:\r\n",
    "    reply()\r\n",
    "    time.sleep(15)\r\n"
   ]
  },
  {
   "cell_type": "code",
   "execution_count": null,
   "metadata": {},
   "outputs": [],
   "source": [
    "\r\n",
    "\r\n",
    "    "
   ]
  },
  {
   "cell_type": "code",
   "execution_count": null,
   "metadata": {},
   "outputs": [],
   "source": []
  }
 ],
 "metadata": {
  "interpreter": {
   "hash": "7585de03da07aff91778c0565f1fc3b72a2b56cda13ed14cba0b716b39314f65"
  },
  "kernelspec": {
   "display_name": "Python 3.9.1 64-bit",
   "name": "python3"
  },
  "language_info": {
   "codemirror_mode": {
    "name": "ipython",
    "version": 3
   },
   "file_extension": ".py",
   "mimetype": "text/x-python",
   "name": "python",
   "nbconvert_exporter": "python",
   "pygments_lexer": "ipython3",
   "version": "3.9.1"
  },
  "orig_nbformat": 4
 },
 "nbformat": 4,
 "nbformat_minor": 2
}