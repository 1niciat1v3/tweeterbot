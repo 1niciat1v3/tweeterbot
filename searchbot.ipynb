{
 "cells": [
  {
   "cell_type": "code",
   "execution_count": null,
   "metadata": {},
   "outputs": [],
   "source": [
    "import tweepy #module\r\n",
    "import time #module\r\n",
    "print('Bot is here')\r\n",
    "CONSUMER_KEY = \"...\" # key for api\r\n",
    "CONSUMER_SECRET = \"...\" # secret key for api\r\n",
    "BEARER_TOKEN = \"...\" # IDK\r\n",
    "ACCESS_KEY = \"...\" # token for access to account\r\n",
    "ACCESS_SECRET = \"...\" # secret token\r\n",
    "auth = tweepy.OAuthHandler(CONSUMER_KEY,CONSUMER_SECRET)\r\n",
    "auth.set_access_token(ACCESS_KEY, ACCESS_SECRET)\r\n",
    "\r\n",
    "api = tweepy.API(auth)\r\n",
    "api.update_status('Workin') # status\r\n",
    "FILE_NAME = 'last_seen.txt' #let it be here)"
   ]
  },
  {
   "cell_type": "code",
   "execution_count": null,
   "metadata": {},
   "outputs": [],
   "source": [
    "hashtag = [\"#100DaysOfCode\", \"#Python\", \"#DataScience\"] # list of hashtags , u can make a solo hashtag\r\n",
    "tweetnumber = 15 # number of tweets in 15 tweets cycle will be finish \r\n",
    "\r\n",
    "tweets = tweepy.Cursor(api.search, hashtag).items(tweetnumber) #checking hasttags\r\n",
    "def searchBot(): # function\r\n",
    "    for tweet in tweets:\r\n",
    "        try:\r\n",
    "            tweet.retweet() # retweet tweet\r\n",
    "            api.create_favorite(tweet.id) # create favorite\r\n",
    "            print(\"Retweet && like done\") # just print\r\n",
    "            api.update_status(\"@\" + tweet.user.screen_name + \" Keep Work )\", tweet.id) # replying. You can delete this code-string\r\n",
    "            time.sleep(5) # every 5 seconds start\r\n",
    "        except tweepy.TweepError as e: #if error\r\n",
    "            print(e.reason) #print why\r\n",
    "            time.sleep(5)\r\n",
    "\r\n",
    "searchBot() # calling function"
   ]
  }
 ],
 "metadata": {
  "interpreter": {
   "hash": "7585de03da07aff91778c0565f1fc3b72a2b56cda13ed14cba0b716b39314f65"
  },
  "kernelspec": {
   "display_name": "Python 3.9.1 64-bit",
   "name": "python3"
  },
  "language_info": {
   "name": "python",
   "version": ""
  },
  "orig_nbformat": 4
 },
 "nbformat": 4,
 "nbformat_minor": 2
}